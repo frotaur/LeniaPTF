{
 "cells": [
  {
   "cell_type": "code",
   "execution_count": 1,
   "metadata": {},
   "outputs": [
    {
     "name": "stderr",
     "output_type": "stream",
     "text": [
      "c:\\Users\\vassi\\penv\\Lib\\site-packages\\tqdm\\auto.py:21: TqdmWarning: IProgress not found. Please update jupyter and ipywidgets. See https://ipywidgets.readthedocs.io/en/stable/user_install.html\n",
      "  from .autonotebook import tqdm as notebook_tqdm\n"
     ]
    },
    {
     "name": "stdout",
     "output_type": "stream",
     "text": [
      "pygame 2.5.2 (SDL 2.28.3, Python 3.12.3)\n",
      "Hello from the pygame community. https://www.pygame.org/contribute.html\n"
     ]
    }
   ],
   "source": [
    "from modules import BatchLeniaMC\n",
    "\n",
    "from lenia_pytorch import get_rule\n",
    "\n",
    "n_dim = 2\n",
    "space_scale = 13  # space resolution = radius of kernel\n",
    "time_scale = 1    # time resolution\n",
    "array_div  = 13   # number of levels in world values [0 ... P_a]\n",
    "kernel_div = 13   # number of levels in kernel values [0 ... P_k]\n",
    "growth_div = 1    # number of levels in growth values [0 ... P_g]\n",
    "n_kernels = 1\n",
    "\n",
    "kernel_radius = space_scale\n",
    "kernel_params = [0.5, 0.15, 1.0]\n",
    "growth_params = [0.15, 0.015, 1.0]\n",
    "\n",
    "rule_params = [n_dim, space_scale, time_scale, array_div, kernel_div, growth_div, n_kernels]\n",
    "device = 'cpu'\n",
    "\n",
    "\n",
    "\n",
    "# example of usecase:\n",
    "array_sizes=[100, 100]\n",
    "rand_size = 40 # creates a random 40 by 40 region, rest is zeros\n",
    "\n",
    "kern, (g_min, g_max) = get_rule(rule_params, kernel_params, growth_params, kernel_radius, device)\n",
    "\n",
    "auto = BatchLeniaMC((1,30,30),dt=1,device='cuda')\n",
    "\n",
    "auto.kernel = kern.\n"
   ]
  },
  {
   "cell_type": "code",
   "execution_count": 2,
   "metadata": {},
   "outputs": [
    {
     "name": "stdout",
     "output_type": "stream",
     "text": [
      "torch.Size([1, 1, 27, 27])\n"
     ]
    }
   ],
   "source": [
    "print(kern.shape)"
   ]
  },
  {
   "cell_type": "code",
   "execution_count": 4,
   "metadata": {},
   "outputs": [
    {
     "name": "stdout",
     "output_type": "stream",
     "text": [
      "dict_keys(['k_size', 'mu', 'sigma', 'beta', 'mu_k', 'sigma_k', 'weights'])\n",
      "torch.Size([1, 1])\n"
     ]
    }
   ],
   "source": [
    "import pickle as pk\n",
    "import os\n",
    "\n",
    "\n",
    "for file in os.listdir('data/latest_rand/individual'):\n",
    "    with open(os.path.join('data/latest_rand/individual', file), 'rb') as f:\n",
    "        data = pk.load(f)\n",
    "        print(data.keys())\n",
    "        print(data['mu'].shape)\n",
    "        break"
   ]
  }
 ],
 "metadata": {
  "kernelspec": {
   "display_name": "penv",
   "language": "python",
   "name": "python3"
  },
  "language_info": {
   "codemirror_mode": {
    "name": "ipython",
    "version": 3
   },
   "file_extension": ".py",
   "mimetype": "text/x-python",
   "name": "python",
   "nbconvert_exporter": "python",
   "pygments_lexer": "ipython3",
   "version": "3.12.3"
  }
 },
 "nbformat": 4,
 "nbformat_minor": 2
}
