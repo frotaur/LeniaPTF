{
 "cells": [
  {
   "cell_type": "code",
   "execution_count": 1,
   "metadata": {},
   "outputs": [
    {
     "name": "stderr",
     "output_type": "stream",
     "text": [
      "c:\\Users\\vassi\\penv\\Lib\\site-packages\\tqdm\\auto.py:21: TqdmWarning: IProgress not found. Please update jupyter and ipywidgets. See https://ipywidgets.readthedocs.io/en/stable/user_install.html\n",
      "  from .autonotebook import tqdm as notebook_tqdm\n"
     ]
    },
    {
     "name": "stdout",
     "output_type": "stream",
     "text": [
      "pygame 2.5.2 (SDL 2.28.3, Python 3.12.3)\n",
      "Hello from the pygame community. https://www.pygame.org/contribute.html\n"
     ]
    }
   ],
   "source": [
    "from modules import BatchLeniaMC\n",
    "\n",
    "from lenia_pytorch import get_rule\n",
    "\n",
    "n_dim = 2\n",
    "space_scale = 13  # space resolution = radius of kernel\n",
    "time_scale = 1    # time resolution\n",
    "array_div  = 13   # number of levels in world values [0 ... P_a]\n",
    "kernel_div = 13   # number of levels in kernel values [0 ... P_k]\n",
    "growth_div = 1    # number of levels in growth values [0 ... P_g]\n",
    "n_kernels = 1\n",
    "\n",
    "kernel_radius = space_scale\n",
    "kernel_params = [0.5, 0.15, 1.0]\n",
    "growth_params = [0.15, 0.015, 1.0]\n",
    "\n",
    "rule_params = [n_dim, space_scale, time_scale, array_div, kernel_div, growth_div, n_kernels]\n",
    "device = 'cpu'\n",
    "\n",
    "\n",
    "\n",
    "# example of usecase:\n",
    "array_sizes=[100, 100]\n",
    "rand_size = 40 # creates a random 40 by 40 region, rest is zeros\n",
    "\n",
    "kern, (g_min, g_max) = get_rule(rule_params, kernel_params, growth_params, kernel_radius, device)\n",
    "\n",
    "auto = BatchLeniaMC((1,30,30),dt=1,device='cuda')\n",
    "\n",
    "auto.kernel = kern.\n"
   ]
  },
  {
   "cell_type": "code",
   "execution_count": 2,
   "metadata": {},
   "outputs": [
    {
     "name": "stdout",
     "output_type": "stream",
     "text": [
      "torch.Size([1, 1, 27, 27])\n"
     ]
    }
   ],
   "source": [
    "print(kern.shape)"
   ]
  },
  {
   "cell_type": "code",
   "execution_count": 4,
   "metadata": {},
   "outputs": [
    {
     "name": "stdout",
     "output_type": "stream",
     "text": [
      "dict_keys(['k_size', 'mu', 'sigma', 'beta', 'mu_k', 'sigma_k', 'weights'])\n",
      "torch.Size([1, 1])\n"
     ]
    }
   ],
   "source": [
    "import pickle as pk\n",
    "import os\n",
    "\n",
    "\n",
    "for file in os.listdir('data/latest_rand/individual'):\n",
    "    with open(os.path.join('data/latest_rand/individual', file), 'rb') as f:\n",
    "        data = pk.load(f)\n",
    "        print(data.keys())\n",
    "        print(data['mu'].shape)\n",
    "        break"
   ]
  },
  {
   "cell_type": "code",
   "execution_count": 2,
   "metadata": {},
   "outputs": [],
   "source": [
    "import torch\n",
    "import pickle as pk\n",
    "import os"
   ]
  },
  {
   "cell_type": "code",
   "execution_count": null,
   "metadata": {},
   "outputs": [],
   "source": []
  },
  {
   "cell_type": "code",
   "execution_count": 4,
   "metadata": {},
   "outputs": [
    {
     "name": "stdout",
     "output_type": "stream",
     "text": [
      "torch.Size([3, 3])\n"
     ]
    }
   ],
   "source": [
    "dico = {}\n",
    "folder = os.path.join('demo_params','oldindi')\n",
    "foldernew = os.path.join('demo_params', 'individual')\n",
    "\n",
    "files = [os.path.join(folder,path) for path in os.listdir(folder)]\n",
    "newfiles = [os.path.join(foldernew,file[:-3]+'.pt') for file in os.listdir(folder)]\n",
    "\n",
    "# torch.load(files[0],map_location='cpu')\n",
    "for i,file in enumerate(files):\n",
    "    with open(files[i],'rb') as f:\n",
    "        dico = pk.load(f)\n",
    "        torch.save(dico,newfiles[i])\n",
    "        dico = torch.load(newfiles[i],map_location='cpu')\n",
    "        torch.save(dico,newfiles[i])\n",
    "        \n",
    "\n",
    "print(dico['mu'].shape)"
   ]
  },
  {
   "cell_type": "code",
   "execution_count": 9,
   "metadata": {},
   "outputs": [
    {
     "name": "stdout",
     "output_type": "stream",
     "text": [
      "torch.Size([1, 3, 3])\n"
     ]
    }
   ],
   "source": [
    "plz= torch.load(newfiles[0],map_location='cpu')\n",
    "\n",
    "print(plz['mu'].shape)"
   ]
  },
  {
   "cell_type": "code",
   "execution_count": 5,
   "metadata": {},
   "outputs": [
    {
     "name": "stdout",
     "output_type": "stream",
     "text": [
      "{'mu': tensor([[0.2961, 0.2313, 0.6212],\n",
      "        [0.4910, 0.5437, 0.4879],\n",
      "        [0.2550, 0.0836, 0.4906]]), 'sigma': tensor([[0.0890, 0.0666, 0.2294],\n",
      "        [0.2034, 0.0083, 0.0866],\n",
      "        [0.1470, 0.0318, 0.2004]]), 'beta': tensor([[[0.1666, 0.5731, 0.4814],\n",
      "         [0.4773, 0.7877, 0.8082],\n",
      "         [0.3003, 0.1276, 0.2336]],\n",
      "\n",
      "        [[0.6817, 0.2334, 0.2737],\n",
      "         [0.3838, 0.6349, 0.3729],\n",
      "         [0.2970, 0.3117, 0.5016]],\n",
      "\n",
      "        [[0.7788, 0.2430, 0.3031],\n",
      "         [0.0950, 0.2510, 0.5590],\n",
      "         [0.3484, 0.5193, 0.4737]]]), 'mu_k': tensor([[[0.5195, 0.3830, 0.6343],\n",
      "         [0.4029, 0.5113, 0.8370],\n",
      "         [0.5347, 0.6774, 0.4710]],\n",
      "\n",
      "        [[0.2911, 0.2476, 0.3505],\n",
      "         [0.6719, 0.4260, 0.4188],\n",
      "         [0.6884, 0.6810, 0.4789]],\n",
      "\n",
      "        [[0.5035, 0.5096, 0.4431],\n",
      "         [0.5973, 0.3914, 0.4858],\n",
      "         [0.5394, 0.6572, 0.3978]]]), 'sigma_k': tensor([[[0.0455, 0.0588, 0.0539],\n",
      "         [0.0547, 0.0562, 0.0569],\n",
      "         [0.0488, 0.0615, 0.0391]],\n",
      "\n",
      "        [[0.0455, 0.0464, 0.0387],\n",
      "         [0.0360, 0.0441, 0.0524],\n",
      "         [0.0607, 0.0476, 0.0680]],\n",
      "\n",
      "        [[0.0534, 0.0596, 0.0426],\n",
      "         [0.0511, 0.0445, 0.0458],\n",
      "         [0.0492, 0.0524, 0.0440]]]), 'weights': tensor([[0.1913, 0.7514, 0.6544],\n",
      "        [0.3376, 0.1332, 0.7018],\n",
      "        [0.6203, 0.5870, 0.1187]])}\n"
     ]
    }
   ],
   "source": [
    "dico = torch.load(files[0][:-3]+'.pt')\n",
    "\n",
    "print(dico)"
   ]
  }
 ],
 "metadata": {
  "kernelspec": {
   "display_name": "penv",
   "language": "python",
   "name": "python3"
  },
  "language_info": {
   "codemirror_mode": {
    "name": "ipython",
    "version": 3
   },
   "file_extension": ".py",
   "mimetype": "text/x-python",
   "name": "python",
   "nbconvert_exporter": "python",
   "pygments_lexer": "ipython3",
   "version": "3.12.3"
  }
 },
 "nbformat": 4,
 "nbformat_minor": 2
}
